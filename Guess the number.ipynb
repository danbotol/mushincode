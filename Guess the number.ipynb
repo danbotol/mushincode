{
 "cells": [
  {
   "cell_type": "code",
   "execution_count": 12,
   "metadata": {},
   "outputs": [
    {
     "name": "stdout",
     "output_type": "stream",
     "text": [
      "guess a number: 9\n",
      "computer generated  15\n",
      "your guess is low\n"
     ]
    }
   ],
   "source": [
    "import random\n",
    "\n",
    "player = int (input('guess a number: '))\n",
    "if  player < 20:\n",
    "    a = random.randint(0,20)\n",
    "    print('computer generated ',a)\n",
    "    \n",
    "    if player < a:\n",
    "        print('your guess is low')\n",
    "    elif player> a:\n",
    "        print('your guess is high')\n",
    "    else:\n",
    "        print('you guessed correctly')\n",
    "else:\n",
    "    \n",
    "    print('guess a number below 20')"
   ]
  },
  {
   "cell_type": "code",
   "execution_count": null,
   "metadata": {},
   "outputs": [],
   "source": [
    "a"
   ]
  },
  {
   "cell_type": "code",
   "execution_count": null,
   "metadata": {},
   "outputs": [],
   "source": []
  },
  {
   "cell_type": "code",
   "execution_count": null,
   "metadata": {},
   "outputs": [],
   "source": []
  }
 ],
 "metadata": {
  "kernelspec": {
   "display_name": "Python 3",
   "language": "python",
   "name": "python3"
  },
  "language_info": {
   "codemirror_mode": {
    "name": "ipython",
    "version": 3
   },
   "file_extension": ".py",
   "mimetype": "text/x-python",
   "name": "python",
   "nbconvert_exporter": "python",
   "pygments_lexer": "ipython3",
   "version": "3.7.0"
  }
 },
 "nbformat": 4,
 "nbformat_minor": 2
}
